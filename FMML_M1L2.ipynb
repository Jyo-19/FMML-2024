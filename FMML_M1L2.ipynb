{
  "cells": [
    {
      "cell_type": "markdown",
      "metadata": {
        "id": "view-in-github",
        "colab_type": "text"
      },
      "source": [
        "<a href=\"https://colab.research.google.com/github/Jyo-19/FMML-2024/blob/main/FMML_M1L2.ipynb\" target=\"_parent\"><img src=\"https://colab.research.google.com/assets/colab-badge.svg\" alt=\"Open In Colab\"/></a>"
      ]
    },
    {
      "cell_type": "markdown",
      "metadata": {
        "id": "3Eu9VZbF01eq"
      },
      "source": [
        "# Machine Learning terms and metrics\n",
        "\n",
        "FMML Module 1, Lab 2\n",
        "\n",
        "In this lab, we will show a part of the ML pipeline by using the California Housing dataset. There are 20640 samples, each with 8 attributes like income of the block, age of the houses per district etc. The task is to predict the cost of the houses per district. We will use the scikit-learn library to load the data and perform some basic data preprocessing and model training. We will also show how to evaluate the model using some common metrics, split the data into training and testing sets, and use cross-validation to get a better estimate of the model's performance."
      ]
    },
    {
      "cell_type": "code",
      "execution_count": 1,
      "metadata": {
        "id": "8qBvyEem0vLi"
      },
      "outputs": [],
      "source": [
        "import numpy as np\n",
        "from sklearn import datasets\n",
        "import matplotlib.pyplot as plt\n",
        "\n",
        "rng = np.random.default_rng(seed=42)"
      ]
    },
    {
      "cell_type": "code",
      "execution_count": 2,
      "metadata": {
        "colab": {
          "base_uri": "https://localhost:8080/"
        },
        "id": "8LpqjN991GGJ",
        "outputId": "9b750532-46a4-41f1-dbb1-bece4a3a7ef3"
      },
      "outputs": [
        {
          "output_type": "stream",
          "name": "stdout",
          "text": [
            ".. _california_housing_dataset:\n",
            "\n",
            "California Housing dataset\n",
            "--------------------------\n",
            "\n",
            "**Data Set Characteristics:**\n",
            "\n",
            "    :Number of Instances: 20640\n",
            "\n",
            "    :Number of Attributes: 8 numeric, predictive attributes and the target\n",
            "\n",
            "    :Attribute Information:\n",
            "        - MedInc        median income in block group\n",
            "        - HouseAge      median house age in block group\n",
            "        - AveRooms      average number of rooms per household\n",
            "        - AveBedrms     average number of bedrooms per household\n",
            "        - Population    block group population\n",
            "        - AveOccup      average number of household members\n",
            "        - Latitude      block group latitude\n",
            "        - Longitude     block group longitude\n",
            "\n",
            "    :Missing Attribute Values: None\n",
            "\n",
            "This dataset was obtained from the StatLib repository.\n",
            "https://www.dcc.fc.up.pt/~ltorgo/Regression/cal_housing.html\n",
            "\n",
            "The target variable is the median house value for California districts,\n",
            "expressed in hundreds of thousands of dollars ($100,000).\n",
            "\n",
            "This dataset was derived from the 1990 U.S. census, using one row per census\n",
            "block group. A block group is the smallest geographical unit for which the U.S.\n",
            "Census Bureau publishes sample data (a block group typically has a population\n",
            "of 600 to 3,000 people).\n",
            "\n",
            "A household is a group of people residing within a home. Since the average\n",
            "number of rooms and bedrooms in this dataset are provided per household, these\n",
            "columns may take surprisingly large values for block groups with few households\n",
            "and many empty houses, such as vacation resorts.\n",
            "\n",
            "It can be downloaded/loaded using the\n",
            ":func:`sklearn.datasets.fetch_california_housing` function.\n",
            "\n",
            ".. topic:: References\n",
            "\n",
            "    - Pace, R. Kelley and Ronald Barry, Sparse Spatial Autoregressions,\n",
            "      Statistics and Probability Letters, 33 (1997) 291-297\n",
            "\n"
          ]
        }
      ],
      "source": [
        "dataset = datasets.fetch_california_housing()\n",
        "# Dataset description\n",
        "print(dataset.DESCR)"
      ]
    },
    {
      "cell_type": "markdown",
      "metadata": {
        "id": "PCe1VNftevgE"
      },
      "source": [
        "Given below are the list of target values. These correspond to the house value derived considering all the 8 input features and are continuous values. We should use regression models to predict these values but we will start with a simple classification model for the sake of simplicity. We need to just round off the values to the nearest integer and use a classification model to predict the house value."
      ]
    },
    {
      "cell_type": "code",
      "execution_count": 3,
      "metadata": {
        "colab": {
          "base_uri": "https://localhost:8080/"
        },
        "id": "F8K0ggBOevgE",
        "outputId": "d133dcdf-3b24-436a-ba0b-dc217d9a88f5"
      },
      "outputs": [
        {
          "output_type": "stream",
          "name": "stdout",
          "text": [
            "Orignal target values: [4.526 3.585 3.521 ... 0.923 0.847 0.894]\n",
            "Target values after conversion: [4 3 3 ... 0 0 0]\n",
            "Input variables shape: (20640, 8)\n",
            "Output variables shape: (20640,)\n"
          ]
        }
      ],
      "source": [
        "print(\"Orignal target values:\", dataset.target)\n",
        "\n",
        "dataset.target = dataset.target.astype(int)\n",
        "\n",
        "print(\"Target values after conversion:\", dataset.target)\n",
        "print(\"Input variables shape:\", dataset.data.shape)\n",
        "print(\"Output variables shape:\", dataset.target.shape)"
      ]
    },
    {
      "cell_type": "markdown",
      "metadata": {
        "id": "iNx4174W5xRg"
      },
      "source": [
        "The simplest model to use for classification is the K-Nearest Neighbors model. We will use this model to predict the house value with a K value of 1. We will also use the accuracy metric to evaluate the model."
      ]
    },
    {
      "cell_type": "code",
      "execution_count": 4,
      "metadata": {
        "id": "07zpydQj1hIQ"
      },
      "outputs": [],
      "source": [
        "def NN1(traindata, trainlabel, query):\n",
        "    \"\"\"\n",
        "    This function takes in the training data, training labels and a query point\n",
        "    and returns the predicted label for the query point using the nearest neighbour algorithm\n",
        "\n",
        "    traindata: numpy array of shape (n,d) where n is the number of samples and d is the number of features\n",
        "    trainlabel: numpy array of shape (n,) where n is the number of samples\n",
        "    query: numpy array of shape (d,) where d is the number of features\n",
        "\n",
        "    returns: the predicted label for the query point which is the label of the training data which is closest to the query point\n",
        "    \"\"\"\n",
        "    diff = (\n",
        "        traindata - query\n",
        "    )  # find the difference between features. Numpy automatically takes care of the size here\n",
        "    sq = diff * diff  # square the differences\n",
        "    dist = sq.sum(1)  # add up the squares\n",
        "    label = trainlabel[np.argmin(dist)]\n",
        "    return label\n",
        "\n",
        "\n",
        "def NN(traindata, trainlabel, testdata):\n",
        "    \"\"\"\n",
        "    This function takes in the training data, training labels and test data\n",
        "    and returns the predicted labels for the test data using the nearest neighbour algorithm\n",
        "\n",
        "    traindata: numpy array of shape (n,d) where n is the number of samples and d is the number of features\n",
        "    trainlabel: numpy array of shape (n,) where n is the number of samples\n",
        "    testdata: numpy array of shape (m,d) where m is the number of test samples and d is the number of features\n",
        "\n",
        "    returns: the predicted labels for the test data which is the label of the training data which is closest to each test point\n",
        "    \"\"\"\n",
        "    predlabel = np.array([NN1(traindata, trainlabel, i) for i in testdata])\n",
        "    return predlabel"
      ]
    },
    {
      "cell_type": "markdown",
      "metadata": {
        "id": "03JktkfIGaje"
      },
      "source": [
        "We will also define a 'random classifier', which randomly allots labels to each sample"
      ]
    },
    {
      "cell_type": "code",
      "execution_count": 5,
      "metadata": {
        "id": "fogWAtjyGhAH"
      },
      "outputs": [],
      "source": [
        "def RandomClassifier(traindata, trainlabel, testdata):\n",
        "    \"\"\"\n",
        "    This function takes in the training data, training labels and test data\n",
        "    and returns the predicted labels for the test data using the random classifier algorithm\n",
        "\n",
        "    In reality, we don't need these arguments but we are passing them to keep the function signature consistent with other classifiers\n",
        "\n",
        "    traindata: numpy array of shape (n,d) where n is the number of samples and d is the number of features\n",
        "    trainlabel: numpy array of shape (n,) where n is the number of samples\n",
        "    testdata: numpy array of shape (m,d) where m is the number of test samples and d is the number of features\n",
        "\n",
        "    returns: the predicted labels for the test data which is a random label from the training data\n",
        "    \"\"\"\n",
        "\n",
        "    classes = np.unique(trainlabel)\n",
        "    rints = rng.integers(low=0, high=len(classes), size=len(testdata))\n",
        "    predlabel = classes[rints]\n",
        "    return predlabel"
      ]
    },
    {
      "cell_type": "markdown",
      "metadata": {
        "id": "1Hjf1KHs7fU5"
      },
      "source": [
        "We need a metric to evaluate the performance of the model. Let us define a metric 'Accuracy' to see how good our learning algorithm is. Accuracy is the ratio of the number of correctly classified samples to the total number of samples. The higher the accuracy, the better the algorithm. We will use the accuracy metric to evaluate and compate the performance of the K-Nearest Neighbors model and the random classifier."
      ]
    },
    {
      "cell_type": "code",
      "execution_count": 6,
      "metadata": {
        "id": "ouuCqWU07bz-"
      },
      "outputs": [],
      "source": [
        "def Accuracy(gtlabel, predlabel):\n",
        "    \"\"\"\n",
        "    This function takes in the ground-truth labels and predicted labels\n",
        "    and returns the accuracy of the classifier\n",
        "\n",
        "    gtlabel: numpy array of shape (n,) where n is the number of samples\n",
        "    predlabel: numpy array of shape (n,) where n is the number of samples\n",
        "\n",
        "    returns: the accuracy of the classifier which is the number of correct predictions divided by the total number of predictions\n",
        "    \"\"\"\n",
        "    assert len(gtlabel) == len(\n",
        "        predlabel\n",
        "    ), \"Length of the ground-truth labels and predicted labels should be the same\"\n",
        "    correct = (\n",
        "        gtlabel == predlabel\n",
        "    ).sum()  # count the number of times the groundtruth label is equal to the predicted label.\n",
        "    return correct / len(gtlabel)"
      ]
    },
    {
      "cell_type": "markdown",
      "metadata": {
        "id": "4vJFwBFa9Klw"
      },
      "source": [
        "Let us make a function to split the dataset with the desired probability. We will use this function to split the dataset into training and testing sets. We will use the training set to train the model and the testing set to evaluate the model."
      ]
    },
    {
      "cell_type": "code",
      "execution_count": 7,
      "metadata": {
        "id": "Ko0VzpSM2Tdi"
      },
      "outputs": [],
      "source": [
        "def split(data, label, percent):\n",
        "    # generate a random number for each sample\n",
        "    rnd = rng.random(len(label))\n",
        "    split1 = rnd < percent\n",
        "    split2 = rnd >= percent\n",
        "\n",
        "    split1data = data[split1, :]\n",
        "    split1label = label[split1]\n",
        "    split2data = data[split2, :]\n",
        "    split2label = label[split2]\n",
        "    return split1data, split1label, split2data, split2label"
      ]
    },
    {
      "cell_type": "markdown",
      "metadata": {
        "id": "AcK3LEAJ_LGC"
      },
      "source": [
        "We will reserve 20% of our dataset as the test set. We will not change this portion throughout our experiments"
      ]
    },
    {
      "cell_type": "code",
      "execution_count": 8,
      "metadata": {
        "colab": {
          "base_uri": "https://localhost:8080/"
        },
        "id": "bBZkHBLJ1iU-",
        "outputId": "430459c0-c8d1-40f7-bc8b-3150aba30c8c"
      },
      "outputs": [
        {
          "output_type": "stream",
          "name": "stdout",
          "text": [
            "Number of test samples: 4144\n",
            "Number of train samples: 16496\n",
            "Percent of test data: 20.07751937984496 %\n"
          ]
        }
      ],
      "source": [
        "testdata, testlabel, alltraindata, alltrainlabel = split(\n",
        "    dataset.data, dataset.target, 20 / 100\n",
        ")\n",
        "print(\"Number of test samples:\", len(testlabel))\n",
        "print(\"Number of train samples:\", len(alltrainlabel))\n",
        "print(\"Percent of test data:\", len(testlabel) * 100 / len(dataset.target), \"%\")"
      ]
    },
    {
      "cell_type": "markdown",
      "metadata": {
        "id": "a6Ss0Z6IAGNV"
      },
      "source": [
        "## Experiments with splits\n",
        "\n",
        "Let us reserve some of our train data as a validation set"
      ]
    },
    {
      "cell_type": "code",
      "execution_count": 9,
      "metadata": {
        "id": "WFew2iry_7W7"
      },
      "outputs": [],
      "source": [
        "traindata, trainlabel, valdata, vallabel = split(\n",
        "    alltraindata, alltrainlabel, 75 / 100)"
      ]
    },
    {
      "cell_type": "markdown",
      "metadata": {
        "id": "60hiu4clFN1i"
      },
      "source": [
        "What is the accuracy of our classifiers on the train dataset?"
      ]
    },
    {
      "cell_type": "code",
      "execution_count": 10,
      "metadata": {
        "colab": {
          "base_uri": "https://localhost:8080/"
        },
        "id": "DBlZDTHUFTZx",
        "outputId": "9ac1432c-23af-4ab4-f5e4-47e59153840c"
      },
      "outputs": [
        {
          "output_type": "stream",
          "name": "stdout",
          "text": [
            "Training accuracy using nearest neighbour algorithm: 100.0 %\n",
            "Training accuracy using random classifier:  16.4375808538163 %\n"
          ]
        }
      ],
      "source": [
        "trainpred = NN(traindata, trainlabel, traindata)\n",
        "trainAccuracy = Accuracy(trainlabel, trainpred)\n",
        "print(\"Training accuracy using nearest neighbour algorithm:\", trainAccuracy*100, \"%\")\n",
        "\n",
        "trainpred = RandomClassifier(traindata, trainlabel, traindata)\n",
        "trainAccuracy = Accuracy(trainlabel, trainpred)\n",
        "print(\"Training accuracy using random classifier: \", trainAccuracy*100, \"%\")"
      ]
    },
    {
      "cell_type": "markdown",
      "metadata": {
        "id": "7h08-9gJDtSy"
      },
      "source": [
        "For nearest neighbour, the train accuracy is always 1. The accuracy of the random classifier is close to 1/(number of classes) which is 0.1666 in our case. This is because the random classifier randomly assigns a label to each sample and the probability of assigning the correct label is 1/(number of classes). Let us predict the labels for our validation set and get the accuracy. This accuracy is a good estimate of the accuracy of our model on unseen data."
      ]
    },
    {
      "cell_type": "code",
      "execution_count": 11,
      "metadata": {
        "colab": {
          "base_uri": "https://localhost:8080/"
        },
        "id": "4h7bXoW_2H3v",
        "outputId": "b3820916-2b48-4aeb-f2ef-b0b67b0f191c"
      },
      "outputs": [
        {
          "output_type": "stream",
          "name": "stdout",
          "text": [
            "Validation accuracy using nearest neighbour algorithm: 34.10852713178294 %\n",
            "Validation accuracy using random classifier: 16.884689922480618 %\n"
          ]
        }
      ],
      "source": [
        "valpred = NN(traindata, trainlabel, valdata)\n",
        "valAccuracy = Accuracy(vallabel, valpred)\n",
        "print(\"Validation accuracy using nearest neighbour algorithm:\", valAccuracy*100, \"%\")\n",
        "\n",
        "\n",
        "valpred = RandomClassifier(traindata, trainlabel, valdata)\n",
        "valAccuracy = Accuracy(vallabel, valpred)\n",
        "print(\"Validation accuracy using random classifier:\", valAccuracy*100, \"%\")"
      ]
    },
    {
      "cell_type": "markdown",
      "metadata": {
        "id": "py9bLguFEjfg"
      },
      "source": [
        "Validation accuracy of nearest neighbour is considerably less than its train accuracy while the validation accuracy of random classifier is the same. However, the validation accuracy of nearest neighbour is twice that of the random classifier. Now let us try another random split and check the validation accuracy. We will see that the validation accuracy changes with the split. This is because the validation set is small and the accuracy is highly dependent on the samples in the validation set. We can get a better estimate of the accuracy by using cross-validation."
      ]
    },
    {
      "cell_type": "code",
      "execution_count": 12,
      "metadata": {
        "colab": {
          "base_uri": "https://localhost:8080/"
        },
        "id": "ujm3cyYzEntE",
        "outputId": "d431db60-0e45-4bbc-b4e3-2da19cddbcbd"
      },
      "outputs": [
        {
          "output_type": "stream",
          "name": "stdout",
          "text": [
            "Validation accuracy using nearest neighbour algorithm: 34.048257372654156 %\n"
          ]
        }
      ],
      "source": [
        "traindata, trainlabel, valdata, vallabel = split(\n",
        "    alltraindata, alltrainlabel, 75 / 100)\n",
        "valpred = NN(traindata, trainlabel, valdata)\n",
        "valAccuracy = Accuracy(vallabel, valpred)\n",
        "print(\"Validation accuracy using nearest neighbour algorithm:\", valAccuracy*100, \"%\")"
      ]
    },
    {
      "cell_type": "markdown",
      "metadata": {
        "id": "oSOx7U83EKie"
      },
      "source": [
        "You can run the above cell multiple times to try with different random splits.\n",
        "We notice that the accuracy is different for each run, but close together.\n",
        "\n",
        "Now let us compare it with the accuracy we get on the test dataset."
      ]
    },
    {
      "cell_type": "code",
      "execution_count": 13,
      "metadata": {
        "colab": {
          "base_uri": "https://localhost:8080/"
        },
        "id": "PNEZ5ToYBEDW",
        "outputId": "dd4e65cf-7fb5-48bd-e047-3ecd41408f82"
      },
      "outputs": [
        {
          "output_type": "stream",
          "name": "stdout",
          "text": [
            "Test accuracy: 34.91795366795367 %\n"
          ]
        }
      ],
      "source": [
        "testpred = NN(alltraindata, alltrainlabel, testdata)\n",
        "testAccuracy = Accuracy(testlabel, testpred)\n",
        "\n",
        "print(\"Test accuracy:\", testAccuracy*100, \"%\")"
      ]
    },
    {
      "cell_type": "markdown",
      "metadata": {
        "id": "w3dGD531K3gH"
      },
      "source": [
        "### Try it out for yourself and answer:\n",
        "1. How is the accuracy of the validation set affected if we increase the percentage of validation set? What happens when we reduce it?\n",
        "A.Increasing the percentage of the validation set:\n",
        "Generally, leads to a decrease in validation accuracy.\n",
        "This happens because a larger validation set means a smaller training set. With less data to learn from, the model may not generalize as well, leading to lower validation accuracy.\n",
        "Reducing the percentage of the validation set:\n",
        "Generally, leads to an increase in validation accuracy.\n",
        "A smaller validation set means more data available for training. The model can learn more effectively from the larger training set, potentially improving its ability to generalize and resulting in higher validation accuracy.\n",
        "However, keep in mind that an extremely small validation set may not accurately reflect the model's performance on unseen data.\n",
        "\n",
        "\n",
        "\n",
        "2. How does the size of the train and validation set affect how well we can predict the accuracy on the test set using the validation set?\n",
        "A.The size of the training and validation sets plays a crucial role in predicting test accuracy:\n",
        "\n",
        "Training set:\n",
        "\n",
        "Larger training set: Provides more data for the model to learn from, potentially leading to better generalization and improved accuracy on the test set.\n",
        "Smaller training set: May result in the model not capturing the underlying patterns in the data, leading to lower accuracy on both the validation and test sets.\n",
        "Validation set:\n",
        "\n",
        "Larger validation set: Offers a more reliable estimate of the model's performance on unseen data, as it better represents the overall data distribution. This can lead to a more accurate prediction of test set accuracy.\n",
        "Smaller validation set: Might not be representative of the overall data distribution, causing fluctuations in validation accuracy and making it less reliable for predicting test set accuracy.\n",
        "The balance:\n",
        "\n",
        "Ideally, you want a large enough training set to allow the model to learn effectively and a large enough validation set to provide a reliable estimate of test accuracy. However, you also need to consider the total amount of data available. A common split is 80% for training and 20% for validation, but this can vary depending on the specific dataset and task.\n",
        "\n",
        "\n",
        "\n",
        "3. What do you think is a good percentage to reserve for the validation set so that thest two factors are balanced?\n",
        "A.A good starting point is a 80/20 split (80% for training, 20% for validation). This often provides a reasonable balance between having enough data for the model to learn effectively and having a sufficiently large validation set for a reliable performance estimate.\n",
        "\n",
        "However, the ideal percentage can depend on several factors such as:\n",
        "\n",
        "Dataset size: For very large datasets, you might be able to use a smaller validation set (e.g., 10%) and still get a reliable estimate. For smaller datasets, you might need a larger validation set (e.g., 30%) to ensure it is representative.\n",
        "Model complexity: More complex models may require more data for training, so you might need to decrease the validation set size accordingly.\n",
        "Computational resources: If training is computationally expensive, a smaller validation set can reduce the overall training time.\n",
        "It's often beneficial to experiment with different split percentages and see how they affect your model's performance. Techniques like cross-validation can also help you get a more robust estimate of performance with limited data.\n",
        "\n",
        "\n",
        "Answer for both nearest neighbour and random classifier. You can note down the values for your experiments and plot a graph using  <a href=https://matplotlib.org/stable/gallery/lines_bars_and_markers/step_demo.html#sphx-glr-gallery-lines-bars-and-markers-step-demo-py>plt.plot<href>. Check also for extreme values for splits, like 99.9% or 0.1%"
      ]
    },
    {
      "cell_type": "markdown",
      "metadata": {
        "id": "M9zvdYY6evgI"
      },
      "source": [
        "> Exercise: Try to implement a 3 nearest neighbour classifier and compare the accuracy of the 1 nearest neighbour classifier and the 3 nearest neighbour classifier on the test dataset. You can use the KNeighborsClassifier class from the scikit-learn library to implement the K-Nearest Neighbors model. You can set the number of neighbors using the n_neighbors parameter. You can also use the accuracy_score function from the scikit-learn library to calculate the accuracy of the model."
      ]
    },
    {
      "cell_type": "code",
      "source": [
        "from sklearn.neighbors import KNeighborsClassifier\n",
        "from sklearn.metrics import accuracy_score\n",
        "\n",
        "\n",
        "X_train = traindata\n",
        "y_train = trainlabel\n",
        "X_test = testdata\n",
        "y_test = testlabel\n",
        "\n",
        "\n",
        "knn_1 = KNeighborsClassifier(n_neighbors=1)\n",
        "knn_1.fit(X_train, y_train)\n",
        "\n",
        "\n",
        "y_pred_1 = knn_1.predict(X_test)\n",
        "accuracy_1 = accuracy_score(y_test, y_pred_1)\n",
        "\n",
        "\n",
        "knn_3 = KNeighborsClassifier(n_neighbors=3)\n",
        "knn_3.fit(X_train, y_train)\n",
        "\n",
        "y_pred_3 = knn_3.predict(X_test)\n",
        "accuracy_3 = accuracy_score(y_test, y_pred_3)\n",
        "print(\"Accuracy of 1-Nearest Neighbor Classifier: {:.2f}\".format(accuracy_1))\n",
        "print(\"Accuracy of 3-Nearest Neighbor Classifier: {:.2f}\".format(accuracy_3))"
      ],
      "metadata": {
        "colab": {
          "base_uri": "https://localhost:8080/"
        },
        "id": "Pl2yRTuAahL1",
        "outputId": "26c1b8b1-d236-4b19-f19b-0f8c34add644"
      },
      "execution_count": 14,
      "outputs": [
        {
          "output_type": "stream",
          "name": "stdout",
          "text": [
            "Accuracy of 1-Nearest Neighbor Classifier: 0.34\n",
            "Accuracy of 3-Nearest Neighbor Classifier: 0.35\n"
          ]
        }
      ]
    },
    {
      "cell_type": "markdown",
      "metadata": {
        "id": "PnYvkAZLQY7h"
      },
      "source": [
        "## Multiple Splits\n",
        "\n",
        "One way to get more accurate estimates for the test accuracy is by using <b>cross-validation</b>. Here, we will try a simple version, where we do multiple train/val splits and take the average of validation accuracies as the test accuracy estimation. Here is a function for doing this. Note that this function will take a long time to execute. You can reduce the number of splits to make it faster."
      ]
    },
    {
      "cell_type": "code",
      "execution_count": 15,
      "metadata": {
        "id": "E4nGCUQXBTzo"
      },
      "outputs": [],
      "source": [
        "def AverageAccuracy(alldata, alllabel, splitpercent, iterations, classifier=NN):\n",
        "    \"\"\"\n",
        "    This function takes in the data, labels, split percentage, number of iterations and classifier function\n",
        "    and returns the average accuracy of the classifier\n",
        "\n",
        "    alldata: numpy array of shape (n,d) where n is the number of samples and d is the number of features\n",
        "    alllabel: numpy array of shape (n,) where n is the number of samples\n",
        "    splitpercent: float which is the percentage of data to be used for training\n",
        "    iterations: int which is the number of iterations to run the classifier\n",
        "    classifier: function which is the classifier function to be used\n",
        "\n",
        "    returns: the average accuracy of the classifier\n",
        "    \"\"\"\n",
        "    accuracy = 0\n",
        "    for ii in range(iterations):\n",
        "        traindata, trainlabel, valdata, vallabel = split(\n",
        "            alldata, alllabel, splitpercent\n",
        "        )\n",
        "        valpred = classifier(traindata, trainlabel, valdata)\n",
        "        accuracy += Accuracy(vallabel, valpred)\n",
        "    return accuracy / iterations  # average of all accuracies"
      ]
    },
    {
      "cell_type": "code",
      "execution_count": null,
      "metadata": {
        "colab": {
          "base_uri": "https://localhost:8080/"
        },
        "id": "H3qtNar7Bbik",
        "outputId": "5a5a53ec-beea-4f7f-cefc-79f74cceb1bd"
      },
      "outputs": [
        {
          "output_type": "stream",
          "name": "stdout",
          "text": [
            "Average validation accuracy: 33.58463539517022 %\n",
            "Test accuracy: 34.91795366795367 %\n"
          ]
        }
      ],
      "source": [
        "avg_acc = AverageAccuracy(alltraindata, alltrainlabel, 75 / 100, 10, classifier=NN)\n",
        "print(\"Average validation accuracy:\", avg_acc*100, \"%\")\n",
        "testpred = NN(alltraindata, alltrainlabel, testdata)\n",
        "\n",
        "print(\"Test accuracy:\", Accuracy(testlabel, testpred)*100, \"%\")"
      ]
    },
    {
      "cell_type": "markdown",
      "metadata": {
        "id": "33GIn4x5VH-d"
      },
      "source": [
        "This is a very simple way of doing cross-validation. There are many well-known algorithms for cross-validation, like k-fold cross-validation, leave-one-out etc. This will be covered in detail in a later module. For more information about cross-validation, check <a href=https://en.wikipedia.org/wiki/Cross-validation_(statistics)>Cross-validatioin (Wikipedia)</a>\n",
        "\n",
        "### Questions\n",
        "1. Does averaging the validation accuracy across multiple splits give more consistent results?\n",
        "A.Yes, averaging validation accuracy across multiple splits generally gives more consistent and reliable results. This technique is often called cross-validation.\n",
        "\n",
        "Here's why:\n",
        "\n",
        "Reduces variance: A single validation split might be biased by the specific data points included or excluded. Averaging across multiple splits helps to reduce this variance and gives a more stable estimate of model performance.\n",
        "Better use of data: Cross-validation allows you to use all of your data for both training and validation, unlike a single split where a portion of the data is only used for validation.\n",
        "More robust evaluation: By testing your model on different data subsets, you get a more comprehensive understanding of how well it generalizes to unseen data.\n",
        "Common cross-validation techniques include:\n",
        "\n",
        "k-fold cross-validation: The data is divided into k folds, and the model is trained and validated k times, with each fold serving as the validation set once.\n",
        "Stratified k-fold cross-validation: Similar to k-fold, but ensures that each fold has the same proportion of target classes as the original dataset.\n",
        "Leave-one-out cross-validation: Each data point is used as a validation set once, while the rest of the data is used for training.\n",
        "In summary: Averaging validation accuracy across multiple splits through cross-validation is a best practice for getting a more consistent and reliable estimate of your model's performance. It helps to mitigate the impact of data variability and gives you more confidence in your model's ability to generalize.\n",
        "\n",
        "\n",
        "\n",
        "2. Does it give more accurate estimate of test accuracy?\n",
        "A.That's a great question! While cross-validation provides a more consistent and robust estimate of model performance than a single validation split, it doesn't necessarily guarantee a more accurate estimate of the test accuracy.\n",
        "\n",
        "Here's why:\n",
        "\n",
        "Cross-validation accuracy is still an estimate: Even with multiple splits, you're still evaluating your model on a subset of the available data. The true test accuracy is the performance on a completely unseen dataset.\n",
        "Data leakage: While less prone to bias, improper implementation of cross-validation can introduce data leakage, where information from the validation set influences the training process. This can lead to overestimation of the accuracy.\n",
        "Differences between validation and test sets: The validation set used in cross-validation is still drawn from the same distribution as the training data. If the test set has a significantly different distribution, the cross-validation accuracy might not accurately reflect the true test performance.\n",
        "However, cross-validation offers several advantages in estimating test accuracy:\n",
        "\n",
        "Better generalization estimate: By evaluating on multiple folds, it gives a more comprehensive picture of how well the model generalizes, leading to a more reliable estimate compared to a single split.\n",
        "Hyperparameter tuning: Cross-validation is crucial for hyperparameter tuning. By finding the best hyperparameters based on cross-validation performance, you increase the chances of achieving good test accuracy.\n",
        "Model selection: Comparing the cross-validation performance of different models helps you choose the one likely to perform best on unseen data.\n",
        "In summary: Cross-validation doesn't guarantee a more accurate estimate of test accuracy, but it provides a more reliable and robust estimate compared to a single validation split. It's a valuable tool for model evaluation, hyperparameter tuning, and model selection, leading to models that are more likely to generalize well to unseen data.\n",
        "\n",
        "\n",
        "\n",
        "3. What is the effect of the number of iterations on the estimate? Do we get a better estimate with higher iterations?\n",
        "A.You're likely referring to the number of folds (k) in k-fold cross-validation when you mention \"iterations.\" The effect of the number of folds on the estimate is a bit of a balancing act.\n",
        "\n",
        "Here's a breakdown of how the number of folds influences the estimate:\n",
        "\n",
        "Higher number of folds (larger k):\n",
        "\n",
        "Less bias: Each fold is smaller, leading to more data used for training in each iteration. This generally results in a less biased estimate of model performance as the model is trained on a larger portion of the data each time.\n",
        "Higher variance: With smaller folds, the performance estimate for each fold can be more sensitive to the specific data points included, leading to higher variability in the results across folds.\n",
        "More computationally expensive: More folds mean more training and evaluation cycles, increasing the computational cost.\n",
        "Lower number of folds (smaller k):\n",
        "\n",
        "Higher bias: Larger folds mean less data for training in each iteration, potentially leading to a more biased estimate.\n",
        "Lower variance: With larger folds, the performance estimate for each fold is less sensitive to individual data points, resulting in lower variability across folds.\n",
        "Less computationally expensive: Fewer folds reduce the computational burden.\n",
        "So, do we get a better estimate with higher iterations (folds)?\n",
        "\n",
        "Not necessarily. There's no universally optimal value for k. It depends on factors like:\n",
        "\n",
        "Dataset size: For smaller datasets, larger k (e.g., 10-fold) might be preferable to reduce bias. For larger datasets, smaller k (e.g., 5-fold) can be sufficient and computationally more efficient.\n",
        "Computational constraints: If computational resources are limited, a smaller k might be necessary.\n",
        "Desired level of precision: Higher k can provide a more fine-grained estimate but might not be worth the computational cost if the difference in accuracy is negligible.\n",
        "Common choices for k:\n",
        "\n",
        "5-fold: A good starting point for many datasets, providing a reasonable balance between bias and variance.\n",
        "10-fold: Often used for smaller datasets or when a more precise estimate is desired.\n",
        "Leave-one-out: Suitable for very small datasets, but computationally expensive for larger ones.\n",
        "In summary: The choice of k involves a trade-off between bias, variance, and computational cost. There's no one-size-fits-all answer. Experiment with different values and consider the characteristics of your dataset and available resources to determine the best k for your specific situation.\n",
        "\n",
        "\n",
        "4. Consider the results you got for the previous questions. Can we deal with a very small train dataset or validation dataset by increasing the iterations?\n",
        "A.That's an insightful question! While increasing the number of folds (iterations) in cross-validation can be helpful with small datasets, it's not a magical solution and has limitations.\n",
        "\n",
        "Here's a more nuanced look at how increasing iterations interacts with very small datasets:\n",
        "\n",
        "Potential Benefits:\n",
        "\n",
        "Reduced Bias: With very small datasets, using a higher number of folds (e.g., leave-one-out cross-validation) can help reduce bias by ensuring that almost all data points are used for training in each iteration.\n",
        "More Stable Estimates: While the variance might still be high due to the limited data, increasing iterations can sometimes lead to a more stable estimate of the average performance across different folds.\n",
        "Limitations:\n",
        "\n",
        "High Variance: Even with more iterations, very small datasets are inherently prone to high variance. Each fold will have very few data points, making the performance estimate for that fold highly sensitive to the specific points included.\n",
        "Overfitting Risk: With limited data, increasing iterations might lead to overfitting to the validation set, especially with techniques like leave-one-out. The model might learn the idiosyncrasies of the small validation sets, leading to an overly optimistic estimate of performance.\n",
        "Computational Cost: For larger datasets, the computational cost of many iterations can be prohibitive. However, with very small datasets, this might be less of a concern.\n",
        "Alternatives and Considerations:\n",
        "\n",
        "Data Augmentation: If applicable, consider data augmentation techniques to artificially increase the size of your training data.\n",
        "Simpler Models: Favor simpler models with fewer parameters to reduce the risk of overfitting with limited data.\n",
        "Regularization: Use regularization techniques to prevent overfitting during training.\n",
        "Careful Interpretation: Be cautious when interpreting results from cross-validation with very small datasets. The estimates might still be unreliable due to the inherent limitations of the data.\n",
        "In summary: Increasing iterations can be helpful to mitigate bias with very small datasets, but it's not a perfect solution. High variance and overfitting remain concerns. Consider using alternative techniques like data augmentation, simpler models, and regularization in conjunction with cross-validation. Always interpret the results with caution and awareness of the limitations imposed by the small dataset size."
      ]
    },
    {
      "cell_type": "markdown",
      "metadata": {
        "id": "z-SBxy1qevgJ"
      },
      "source": [
        "> Exercise: How does the accuracy of the 3 nearest neighbour classifier change with the number of splits? How is it affected by the split size? Compare the results with the 1 nearest neighbour classifier."
      ]
    },
    {
      "cell_type": "code",
      "source": [
        "def AverageAccuracy(alldata, alllabel, splitpercent, iterations, neighbours=1):\n",
        "\n",
        "    accuracy = 0\n",
        "    for ii in range(iterations):\n",
        "        traindata, trainlabel, valdata, vallabel = split(\n",
        "            alldata, alllabel, splitpercent\n",
        "        )\n",
        "        valpred = KNeighborsClassifier(n_neighbors=neighbours).fit(traindata, trainlabel).predict(valdata)\n",
        "        accuracy += Accuracy(vallabel, valpred)\n",
        "    return accuracy / iterations"
      ],
      "metadata": {
        "id": "JZTeCd6ZYpHQ"
      },
      "execution_count": null,
      "outputs": []
    },
    {
      "cell_type": "markdown",
      "source": [
        "To observe how the accuracy of the 3 nearest neighbour classifier changes in relation to the number of splits and split size, and to compare it with the 1 nearest neighbour classifier, you'll need to conduct a series of experiments. Here's a suggested approach:\n",
        "\n",
        "Experiment with different values:\n",
        "\n",
        "    Number of splits: Try different values for the number of splits (e.g., 5, 10, 20).\n",
        "        Split size: Vary the percentage of data used for training (e.g., 60/40, 70/30, 80/20).\n",
        "        Neighbours: Compare the results for 1 nearest neighbour and 3 nearest neighbours.\n",
        "\n",
        "    Run experiments and collect results:\n",
        "\n",
        "For each combination of splits, split size, and neighbours, calculate the average accuracy using the AverageAccuracy function. Record the results in a table or plot them on a graph.\n",
        "\n",
        "    Analyze the results:\n",
        "\n",
        "    Effect of splits: How does increasing the number of splits affect the accuracy and consistency of the results for both classifiers?\n",
        "        Effect of split size: How does changing the split size impact the accuracy of both classifiers?\n",
        "        Comparison: How do the accuracies of the 1 nearest neighbour and 3 nearest neighbour classifiers compare across different splits and split sizes?"
      ],
      "metadata": {
        "id": "EjXdaN26Y1Nb"
      }
    }
  ],
  "metadata": {
    "colab": {
      "provenance": [],
      "include_colab_link": true
    },
    "kernelspec": {
      "display_name": "Python 3",
      "name": "python3"
    },
    "language_info": {
      "codemirror_mode": {
        "name": "ipython",
        "version": 3
      },
      "file_extension": ".py",
      "mimetype": "text/x-python",
      "name": "python",
      "nbconvert_exporter": "python",
      "pygments_lexer": "ipython3",
      "version": "3.10.10"
    }
  },
  "nbformat": 4,
  "nbformat_minor": 0
}